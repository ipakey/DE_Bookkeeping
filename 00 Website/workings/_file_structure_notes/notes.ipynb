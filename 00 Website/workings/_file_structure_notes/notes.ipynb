{
 "cells": [
  {
   "cell_type": "code",
   "execution_count": null,
   "metadata": {
    "vscode": {
     "languageId": "plaintext"
    }
   },
   "outputs": [],
   "source": [
    "index\n",
    "    static web page\n",
    "        style\n",
    "            css \n",
    "            scss\n",
    "            page layout templates \n",
    "        contract templates\n",
    "        advertising\n",
    "        recruiting\n",
    "    dynamic web page\n",
    "        scripting\n",
    "            js\n",
    "            php\n",
    "       \n",
    "        User Overview interface\n",
    "            user account (Adult)\n",
    "                assoc users (children)\n",
    "                payment details\n",
    "                contract\n",
    "                contact\n",
    "                summary of assoc users work & marks\n",
    "            \n",
    "            Bookings calendar & process\n",
    "            Conformation of schedued appointments\n",
    "            Summary of payment status of each appointment\n",
    "\n",
    "\n",
    "\n",
    "\n",
    "    inputs\n",
    "        bank account\n",
    "        expenses\n",
    "        adjustments\n",
    "        bookings\n",
    "            work due\n",
    "            work completed\n",
    "    storage\n",
    "        transactions\n",
    "            bookings\n",
    "            cash handling (pre and overdue payments)\n",
    "            income table\n",
    "            outgoings table\n",
    "            nominal table\n",
    "            bank account\n",
    "        work done\n",
    "            Google classroom\n",
    "            ILE\n",
    "    reporting\n",
    "\n",
    "    "
   ]
  }
 ],
 "metadata": {
  "language_info": {
   "name": "python"
  }
 },
 "nbformat": 4,
 "nbformat_minor": 2
}
