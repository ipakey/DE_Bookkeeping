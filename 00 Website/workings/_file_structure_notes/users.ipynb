{
 "cells": [
  {
   "cell_type": "code",
   "execution_count": null,
   "metadata": {
    "vscode": {
     "languageId": "plaintext"
    }
   },
   "outputs": [],
   "source": [
    "User Account table\n",
    "Fields\n",
    "    acc_uid (# i)\n",
    "    acc_name (str)\n",
    "    acc_email (str)\n",
    "    pay-type (choice)\n",
    "        paypal, credit card, bank tx, cash, account, 3party(user cntl choice)\n",
    "    acc_address (str)\n",
    "    acc_postcode (str)\n",
    "    acc_pay_name (str)\n",
    "    assoc_uid [array](one to many)\n",
    "    acc_status  (choice)\n",
    "        active, inactive, on hold, unconfirmed \n",
    "        (admin cntl choice) \n",
    "\n",
    "\n",
    "Associate Users (Students)\n",
    "Fields\n",
    "    assoc_uid (# i)\n",
    "    acc_uid (# i)\n",
    "    assoc_name (str)\n",
    "    assoc_nickname (str)\n",
    "    assoc_subjects [array](one to many)\n",
    "    assoc_attendance_ave (str)\n",
    "    assoc_grade_ave (str)\n",
    "    \n",
    "Associate Users Comments (Student feedback)\n",
    "Fields\n",
    "    assoc_fb-date\n",
    "    assoc_uid\n",
    "    assoc_comments [array](one to many)\n",
    "\n",
    "\n",
    "Courses Booked\n",
    "Fields\n",
    "    bkd_uid(# i)\n",
    "    bkd_acc_uid(# i)\n",
    "    bkd_assoc_uid(# i)\n",
    "    bkd_subject (str)\n",
    "    bkd_date (str i)\n",
    "    bkd_due (#)\n",
    "    bkd_attended (b) {N}\n",
    "    bkd_paid (b) {N}\n",
    "    bkd_book-confirm (str) {N}\n",
    "    bkd_reviewed_cust (b) {N}\n",
    "    bkd_reviewed_admin (b) {N}\n",
    "    bkd_ready for archive (b) {N}\n",
    "\n",
    "Course history (archive of completed transactions from Courses Booked Table)\n",
    "Fields\n",
    "    arch_uid (# i)\n",
    "    bkd_uid(# i)\n",
    "    bkd_acc_uid(# i)\n",
    "    bkd_assoc_uid(# i)\n",
    "    bkd_subject (str)\n",
    "    bkd_date (str i)\n",
    "    bkd_attended (b)\n",
    "    bkd_paid (b)\n",
    "    bkd_booked (str)\n",
    "    bkd_reviewed_cust (b)\n",
    "    bkd_reviewed_admin (b)\n"
   ]
  }
 ],
 "metadata": {
  "language_info": {
   "name": "python"
  }
 },
 "nbformat": 4,
 "nbformat_minor": 2
}
