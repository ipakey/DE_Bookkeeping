{
 "cells": [
  {
   "cell_type": "markdown",
   "metadata": {},
   "source": [
    "Key:\n",
    "\n",
    "(data types)\n",
    "    str = string\n",
    "    d = date\n",
    "    # number\n",
    "    i = index\n",
    "    b = boolean (Y/N)\n",
    "    choice = structured choice option list \n",
    "        defined on next sub-line. \n",
    "        (last bracket defines who is responisible for choice)\n",
    "\n",
    "[arrays]\n",
    "    (one to many) = sub array within record \n",
    "        ** this field type is for users who have mulitple assoc attachments ie mom with three children she is paying for. \n",
    "        This field is optional, as student may be only responsible for themselves. \n",
    "    \n",
    "\n",
    "{default values}\n",
    "    b = Yes or No (Y/N)\n",
    "    date = today or booked or number of days ahead \n",
    "        to be determined by the field. \n",
    "        value determined by the admin"
   ]
  }
 ],
 "metadata": {
  "language_info": {
   "name": "python"
  }
 },
 "nbformat": 4,
 "nbformat_minor": 2
}
