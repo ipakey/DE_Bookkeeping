{
 "cells": [
  {
   "cell_type": "markdown",
   "metadata": {
    "vscode": {
     "languageId": "typescript"
    }
   },
   "source": [
    "Bank Statement Business (not bank, backwards to normal)\n",
    "Fields\n",
    "    bs_uid\n",
    "    bs_expense (cr)\n",
    "    bs_income (db)\n",
    "\n",
    "\n",
    "Cash Book\n",
    "Fields Cash Book  \n",
    "    cb_uid  \n",
    "    date_transaction\n",
    "\n",
    "then append:\n",
    "Fields from User\n",
    "    acc_uid (#)\n",
    "    acc_payment-name (str)\n",
    "    bkd_uid (#)\n",
    "    bkd_due (db)\n",
    "\n",
    "Or:\n",
    "Fields from Purchases\n",
    "    pur_uid (#)\n",
    "    pur_payment-name (str)\n",
    "    pur_inv-no (#)\n",
    "    expense (cr)\n",
    "\n",
    "\n",
    "Or:Fields from Bank Statement\n",
    "    money_paid_out (db)\n",
    "    amount_paid_in (cr)\n",
    "\n",
    "\n",
    "\n",
    "Sales\n",
    "Fields\n",
    "    sale_uid\n",
    "    acc_uid\n",
    "    date\n",
    "\n"
   ]
  }
 ],
 "metadata": {
  "language_info": {
   "name": "python"
  }
 },
 "nbformat": 4,
 "nbformat_minor": 2
}
